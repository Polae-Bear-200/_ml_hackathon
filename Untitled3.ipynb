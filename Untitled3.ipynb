{
 "cells": [
  {
   "cell_type": "code",
   "execution_count": 1,
   "id": "4a449016-0e78-4f96-8a7f-74229d5a20f1",
   "metadata": {},
   "outputs": [],
   "source": [
    "import pandas as pd\n",
    "import seaborn as sns\n",
    "import matplotlib.pyplot as plt\n",
    "\n",
    "\n",
    "file_path1 = 'training_set_features.csv'\n",
    "X_train = pd.read_csv(file_path1)\n",
    "file_path = 'training_set_labels.csv'\n",
    "y_train = pd.read_csv(file_path)\n",
    "file_path2 = 'test_set_features.csv'\n",
    "X_test= pd.read_csv(file_path2)\n",
    "\n",
    "\n"
   ]
  },
  {
   "cell_type": "code",
   "execution_count": 2,
   "id": "7767ac5e-9090-4de4-9fd1-c76f485bfc08",
   "metadata": {},
   "outputs": [],
   "source": [
    "import pandas as pd\n",
    "from sklearn.svm import SVC\n",
    "from sklearn.metrics import confusion_matrix, classification_report, roc_auc_score\n",
    "\n",
    "# Assuming X_train, y_train, X_test are already defined as in your provided code.\n",
    "\n",
    "# Fill NaN values\n",
    "most_common_category = X_train['income_poverty'].mode()[0]\n",
    "X_train['income_poverty'] = X_train['income_poverty'].fillna(most_common_category)\n",
    "X_test['income_poverty'] = X_test['income_poverty'].fillna(most_common_category)\n",
    "\n",
    "# Mapping for age_group and other categorical columns\n",
    "age_mapping = {'55 - 64 Years': 1, '35 - 44 Years': 2, '18 - 34 Years': 3, '65+ Years': 5, '45 - 54 Years': 4}\n",
    "X_train['age_group'] = X_train['age_group'].map(age_mapping)\n",
    "X_test['age_group'] = X_test['age_group'].map(age_mapping)\n",
    "\n",
    "# Other mappings\n",
    "mappings = {\n",
    "    'education': {'< 12 Years': 1, '12 Years': 2, 'College Graduate': 3, 'Some College': 4},\n",
    "    'census_msa': {'Non-MSA': 1, 'MSA, Not Principle City': 2, 'MSA, Principle City': 3},\n",
    "    'hhs_geo_region': {'oxchjgsf': 1, 'bhuqouqj': 2, 'qufhixun': 3, 'lrircsnp': 4, 'atmpeygn': 5, 'lzgpxyit': 6, 'fpwskwrf': 7, 'mlyzmhmf': 8, 'dqpwygqj': 9, 'kbazzjca': 10},\n",
    "    'employment_status': {'Not in Labor Force': 0, 'Employed': 1, 'Unemployed': -1},\n",
    "    'rent_or_own': {'Own': 1, 'Rent': 0},\n",
    "    'marital_status': {'Not Married': 0, 'Married': 1},\n",
    "    'sex': {'Female': 0, 'Male': 1},\n",
    "    'race': {'White': 1, 'Black': 2, 'Other or Multiple': 3, 'Hispanic': 4}\n",
    "}\n",
    "\n",
    "def apply_mappings(df, mappings):\n",
    "    for column, mapping in mappings.items():\n",
    "        if column in df.columns:\n",
    "            df[column] = df[column].map(mapping)\n",
    "    return df\n",
    "\n",
    "X_train = apply_mappings(X_train, mappings)\n",
    "X_test = apply_mappings(X_test, mappings)\n",
    "\n",
    "income_mapping = {'<= $75,000, Above Poverty': 1, '> $75,000': 2, 'Below Poverty': 3}\n",
    "X_train['income_poverty'] = X_train['income_poverty'].map(income_mapping)\n",
    "X_test['income_poverty'] = X_test['income_poverty'].map(income_mapping)\n",
    "\n",
    "# Fill specific columns with 0 or most frequent values\n",
    "X_train['doctor_recc_xyz'] = X_train['doctor_recc_xyz'].fillna(0)\n",
    "X_test['doctor_recc_xyz'] = X_test['doctor_recc_xyz'].fillna(0)\n",
    "\n",
    "X_train['doctor_recc_seasonal'] = X_train['doctor_recc_seasonal'].fillna(0)\n",
    "X_train['chronic_med_condition'] = X_train['chronic_med_condition'].fillna(0)\n",
    "\n",
    "columns_to_drop = ['health_insurance', 'employment_industry', 'employment_occupation']\n",
    "X_train = X_train.drop(columns_to_drop, axis=1)\n",
    "X_test = X_test.drop(columns_to_drop, axis=1)\n",
    "\n",
    "columns_to_fill = ['marital_status', 'rent_or_own', 'education', 'employment_status', 'household_adults', 'household_children', 'census_msa']\n",
    "for column in columns_to_fill:\n",
    "    most_frequent_value = X_train[column].mode()[0]\n",
    "    X_train[column] = X_train[column].fillna(most_frequent_value)\n",
    "    X_test[column] = X_test[column].fillna(most_frequent_value)\n",
    "\n",
    "# Merge training features and labels\n",
    "merged_df = pd.merge(X_train, y_train, on='respondent_id')\n",
    "merged_df = merged_df.dropna()\n",
    "X_test = X_test.dropna()\n",
    "\n",
    "# Separate features for xyz and seasonal vaccines\n",
    "merged_xyz = merged_df.loc[:, ~merged_df.columns.str.contains('seasonal|seas')]\n",
    "X_test_xyz = X_test.loc[:, ~X_test.columns.str.contains('seasonal|seas')]\n",
    "\n",
    "merged_seasonal = merged_df.loc[:, merged_df.columns.str.contains('seasonal|seas') | (merged_df.columns == 'respondent_id')]\n",
    "X_test_sea = X_test.loc[:, X_test.columns.str.contains('seasonal|seas') | (X_test.columns == 'respondent_id')]\n",
    "\n",
    "# Extract target variables and drop unnecessary columns\n",
    "y_xyz = merged_xyz['xyz_vaccine']\n",
    "y_sea = merged_seasonal['seasonal_vaccine']\n",
    "X_xyz = merged_xyz.drop(columns=['xyz_vaccine', 'respondent_id'])\n",
    "X_sea = merged_seasonal.drop(columns=['seasonal_vaccine', 'respondent_id'])\n",
    "X_test_xyz = X_test_xyz.drop(columns=['respondent_id'])\n",
    "X_test_sea = X_test_sea.drop(columns=['respondent_id'])\n",
    "\n",
    "# Define a function to train, predict, and evaluate the model\n",
    "\n"
   ]
  },
  {
   "cell_type": "code",
   "execution_count": 3,
   "id": "974aea08-f2f3-443e-a9b3-0a22ab53853c",
   "metadata": {},
   "outputs": [
    {
     "name": "stdout",
     "output_type": "stream",
     "text": [
      "       xyz_vaccine  seasonal_vaccine\n",
      "0         0.079473          0.328263\n",
      "1         0.070839          0.213453\n",
      "2         0.300150          0.530941\n",
      "3         0.560047          0.825327\n",
      "4         0.177425          0.530941\n",
      "...            ...               ...\n",
      "26703     0.477429          0.667199\n",
      "26704     0.084081          0.390853\n",
      "26705     0.142505          0.459697\n",
      "26706     0.054322          0.390797\n",
      "26707     0.500000          0.667174\n",
      "\n",
      "[22988 rows x 2 columns]\n"
     ]
    }
   ],
   "source": [
    "def train_and_evaluate(X_train, X_test, y_train, submission_df, label):\n",
    "    svm_clf = SVC(kernel='linear', probability=True)\n",
    "    svm_clf.fit(X_train, y_train)\n",
    "    y_pred = svm_clf.predict(X_test)\n",
    "    y_pred_proba = svm_clf.predict_proba(X_test)[:, 1]\n",
    "    submission_df[label] = y_pred_proba\n",
    "    return submission_df\n",
    "\n",
    "submission_hackathon = pd.DataFrame(index=X_test.index)\n",
    "submission_hackathon = train_and_evaluate(X_xyz, X_test_xyz, y_xyz, submission_hackathon, 'xyz_vaccine')\n",
    "submission_hackathon = train_and_evaluate(X_sea, X_test_sea, y_sea, submission_hackathon, 'seasonal_vaccine')\n",
    "\n",
    "# Print the submission dataframe to check\n",
    "print(submission_hackathon)"
   ]
  },
  {
   "cell_type": "code",
   "execution_count": 11,
   "id": "5acf53cc-a0f5-4561-86cb-0f65c1a22925",
   "metadata": {},
   "outputs": [],
   "source": [
    "submission_hackathon=submission_hackathon.rename_axis('respondent_id')\n",
    "submission_hackathon.to_csv('my_submission',sep=',')"
   ]
  },
  {
   "cell_type": "code",
   "execution_count": 16,
   "id": "d94a29d3-ca7c-4a8c-b5a7-26e86bdd09d6",
   "metadata": {},
   "outputs": [],
   "source": [
    "submission_hackathon.to_excel('my_sub.xlsx' )"
   ]
  },
  {
   "cell_type": "code",
   "execution_count": 20,
   "id": "d171b0a7-acad-4989-a3ac-81b18031d2bb",
   "metadata": {},
   "outputs": [],
   "source": [
    "df = pd.read_excel('my_sub.xlsx')\n",
    "df.to_csv('y_test_predicted.csv', index=False)"
   ]
  },
  {
   "cell_type": "code",
   "execution_count": null,
   "id": "bfbc629c-4750-4b91-b2c6-01c7a7b0c74f",
   "metadata": {},
   "outputs": [],
   "source": []
  }
 ],
 "metadata": {
  "kernelspec": {
   "display_name": "Python 3 (ipykernel)",
   "language": "python",
   "name": "python3"
  },
  "language_info": {
   "codemirror_mode": {
    "name": "ipython",
    "version": 3
   },
   "file_extension": ".py",
   "mimetype": "text/x-python",
   "name": "python",
   "nbconvert_exporter": "python",
   "pygments_lexer": "ipython3",
   "version": "3.12.3"
  }
 },
 "nbformat": 4,
 "nbformat_minor": 5
}
